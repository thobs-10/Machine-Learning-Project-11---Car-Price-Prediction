{
 "cells": [
  {
   "cell_type": "code",
   "execution_count": 1,
   "metadata": {},
   "outputs": [],
   "source": [
    "# dependancies\n",
    "import pandas as pd\n",
    "import numpy as np\n",
    "%matplotlib inline\n",
    "import matplotlib.pyplot as plt\n",
    "import seaborn as sns\n",
    "#import orchest\n",
    "import pickle"
   ]
  },
  {
   "cell_type": "code",
   "execution_count": null,
   "metadata": {},
   "outputs": [],
   "source": [
    "# get data from data integrity\n",
    "data = orchest.get_inputs()\n",
    "df = data['eda-df']"
   ]
  },
  {
   "cell_type": "code",
   "execution_count": 2,
   "metadata": {},
   "outputs": [],
   "source": [
    "df = pd.read_csv('C:\\\\Users\\\\Cash Crusaders\\\\Desktop\\\\My Portfolio\\\\Projects\\\\Data Science Projects\\\\Machine Learning Project 11 - Car Price Prediction\\\\dataset\\\\eda_dataset.csv')"
   ]
  },
  {
   "cell_type": "code",
   "execution_count": null,
   "metadata": {},
   "outputs": [],
   "source": [
    "#data that was not configured or transformed in the eda stage\n",
    "df['Mileage'] = df['kms_driven'].str.split(' ').str[0]\n",
    "df.drop(columns='kms_driven',axis=1, inplace=True)"
   ]
  },
  {
   "cell_type": "code",
   "execution_count": 3,
   "metadata": {},
   "outputs": [
    {
     "data": {
      "text/html": [
       "<div>\n",
       "<style scoped>\n",
       "    .dataframe tbody tr th:only-of-type {\n",
       "        vertical-align: middle;\n",
       "    }\n",
       "\n",
       "    .dataframe tbody tr th {\n",
       "        vertical-align: top;\n",
       "    }\n",
       "\n",
       "    .dataframe thead th {\n",
       "        text-align: right;\n",
       "    }\n",
       "</style>\n",
       "<table border=\"1\" class=\"dataframe\">\n",
       "  <thead>\n",
       "    <tr style=\"text-align: right;\">\n",
       "      <th></th>\n",
       "      <th>Unnamed: 0</th>\n",
       "      <th>name</th>\n",
       "      <th>company</th>\n",
       "      <th>year</th>\n",
       "      <th>Price</th>\n",
       "      <th>fuel_type</th>\n",
       "      <th>Mileage</th>\n",
       "    </tr>\n",
       "  </thead>\n",
       "  <tbody>\n",
       "    <tr>\n",
       "      <th>0</th>\n",
       "      <td>0</td>\n",
       "      <td>Maruti Suzuki Alto 800 Vxi</td>\n",
       "      <td>Maruti</td>\n",
       "      <td>2018</td>\n",
       "      <td>Ask For Price</td>\n",
       "      <td>Petrol</td>\n",
       "      <td>22,000</td>\n",
       "    </tr>\n",
       "    <tr>\n",
       "      <th>1</th>\n",
       "      <td>1</td>\n",
       "      <td>Hyundai Grand i10 Magna 1.2 Kappa VTVT</td>\n",
       "      <td>Hyundai</td>\n",
       "      <td>2014</td>\n",
       "      <td>3,25,000</td>\n",
       "      <td>Petrol</td>\n",
       "      <td>28,000</td>\n",
       "    </tr>\n",
       "    <tr>\n",
       "      <th>2</th>\n",
       "      <td>2</td>\n",
       "      <td>Ford EcoSport Titanium 1.5L TDCi</td>\n",
       "      <td>Ford</td>\n",
       "      <td>2014</td>\n",
       "      <td>5,75,000</td>\n",
       "      <td>Diesel</td>\n",
       "      <td>36,000</td>\n",
       "    </tr>\n",
       "  </tbody>\n",
       "</table>\n",
       "</div>"
      ],
      "text/plain": [
       "   Unnamed: 0                                    name  company  year  \\\n",
       "0           0              Maruti Suzuki Alto 800 Vxi   Maruti  2018   \n",
       "1           1  Hyundai Grand i10 Magna 1.2 Kappa VTVT  Hyundai  2014   \n",
       "2           2        Ford EcoSport Titanium 1.5L TDCi     Ford  2014   \n",
       "\n",
       "           Price fuel_type Mileage  \n",
       "0  Ask For Price    Petrol  22,000  \n",
       "1       3,25,000    Petrol  28,000  \n",
       "2       5,75,000    Diesel  36,000  "
      ]
     },
     "execution_count": 3,
     "metadata": {},
     "output_type": "execute_result"
    }
   ],
   "source": [
    "df.head(3)"
   ]
  },
  {
   "cell_type": "code",
   "execution_count": 4,
   "metadata": {},
   "outputs": [],
   "source": [
    "# remove the unnamed column\n",
    "df.drop(['Unnamed: 0'], axis=1, inplace=True)"
   ]
  },
  {
   "cell_type": "code",
   "execution_count": 5,
   "metadata": {},
   "outputs": [
    {
     "data": {
      "text/html": [
       "<div>\n",
       "<style scoped>\n",
       "    .dataframe tbody tr th:only-of-type {\n",
       "        vertical-align: middle;\n",
       "    }\n",
       "\n",
       "    .dataframe tbody tr th {\n",
       "        vertical-align: top;\n",
       "    }\n",
       "\n",
       "    .dataframe thead th {\n",
       "        text-align: right;\n",
       "    }\n",
       "</style>\n",
       "<table border=\"1\" class=\"dataframe\">\n",
       "  <thead>\n",
       "    <tr style=\"text-align: right;\">\n",
       "      <th></th>\n",
       "      <th>name</th>\n",
       "      <th>company</th>\n",
       "      <th>year</th>\n",
       "      <th>Price</th>\n",
       "      <th>fuel_type</th>\n",
       "      <th>Mileage</th>\n",
       "    </tr>\n",
       "  </thead>\n",
       "  <tbody>\n",
       "    <tr>\n",
       "      <th>0</th>\n",
       "      <td>Maruti Suzuki Alto 800 Vxi</td>\n",
       "      <td>Maruti</td>\n",
       "      <td>2018</td>\n",
       "      <td>Ask For Price</td>\n",
       "      <td>Petrol</td>\n",
       "      <td>22,000</td>\n",
       "    </tr>\n",
       "    <tr>\n",
       "      <th>1</th>\n",
       "      <td>Hyundai Grand i10 Magna 1.2 Kappa VTVT</td>\n",
       "      <td>Hyundai</td>\n",
       "      <td>2014</td>\n",
       "      <td>3,25,000</td>\n",
       "      <td>Petrol</td>\n",
       "      <td>28,000</td>\n",
       "    </tr>\n",
       "  </tbody>\n",
       "</table>\n",
       "</div>"
      ],
      "text/plain": [
       "                                     name  company  year          Price  \\\n",
       "0              Maruti Suzuki Alto 800 Vxi   Maruti  2018  Ask For Price   \n",
       "1  Hyundai Grand i10 Magna 1.2 Kappa VTVT  Hyundai  2014       3,25,000   \n",
       "\n",
       "  fuel_type Mileage  \n",
       "0    Petrol  22,000  \n",
       "1    Petrol  28,000  "
      ]
     },
     "execution_count": 5,
     "metadata": {},
     "output_type": "execute_result"
    }
   ],
   "source": [
    "df.head(2)"
   ]
  },
  {
   "cell_type": "code",
   "execution_count": 26,
   "metadata": {},
   "outputs": [],
   "source": [
    "# before making any changes lets copy the  data and work with the copy\n",
    "df_copy = df.copy()\n",
    "df_copy['Price'] = np.where(df_copy['Price'] == 'Ask For Price',0,df_copy['Price']) "
   ]
  },
  {
   "cell_type": "code",
   "execution_count": 9,
   "metadata": {},
   "outputs": [],
   "source": [
    "df.drop(df.index[df['Price']=='Ask For Price'], inplace = True)"
   ]
  },
  {
   "cell_type": "code",
   "execution_count": 10,
   "metadata": {},
   "outputs": [
    {
     "data": {
      "text/plain": [
       "name         0\n",
       "company      0\n",
       "year         0\n",
       "Price        0\n",
       "fuel_type    0\n",
       "Mileage      0\n",
       "dtype: int64"
      ]
     },
     "execution_count": 10,
     "metadata": {},
     "output_type": "execute_result"
    }
   ],
   "source": [
    "df[df['Price']=='Ask For Price'].count()"
   ]
  },
  {
   "cell_type": "code",
   "execution_count": 11,
   "metadata": {},
   "outputs": [
    {
     "data": {
      "text/plain": [
       "(648, 6)"
      ]
     },
     "execution_count": 11,
     "metadata": {},
     "output_type": "execute_result"
    }
   ],
   "source": [
    "df.shape"
   ]
  },
  {
   "cell_type": "code",
   "execution_count": 13,
   "metadata": {},
   "outputs": [
    {
     "ename": "ValueError",
     "evalue": "could not convert string to float: 'Ask For Price'",
     "output_type": "error",
     "traceback": [
      "\u001b[1;31m---------------------------------------------------------------------------\u001b[0m",
      "\u001b[1;31mValueError\u001b[0m                                Traceback (most recent call last)",
      "\u001b[1;32mc:\\Users\\Cash Crusaders\\Desktop\\My Portfolio\\Projects\\Data Science Projects\\Machine Learning Project 11 - Car Price Prediction\\Development_Step\\data_preprocessing.ipynb Cell 9\u001b[0m in \u001b[0;36m1\n\u001b[1;32m----> <a href='vscode-notebook-cell:/c%3A/Users/Cash%20Crusaders/Desktop/My%20Portfolio/Projects/Data%20Science%20Projects/Machine%20Learning%20Project%2011%20-%20Car%20Price%20Prediction/Development_Step/data_preprocessing.ipynb#X11sZmlsZQ%3D%3D?line=0'>1</a>\u001b[0m df_copy[\u001b[39m'\u001b[39m\u001b[39mPrice\u001b[39m\u001b[39m'\u001b[39m] \u001b[39m=\u001b[39m df_copy[\u001b[39m'\u001b[39;49m\u001b[39mPrice\u001b[39;49m\u001b[39m'\u001b[39;49m]\u001b[39m.\u001b[39;49mastype(\u001b[39mfloat\u001b[39;49m)\n\u001b[0;32m      <a href='vscode-notebook-cell:/c%3A/Users/Cash%20Crusaders/Desktop/My%20Portfolio/Projects/Data%20Science%20Projects/Machine%20Learning%20Project%2011%20-%20Car%20Price%20Prediction/Development_Step/data_preprocessing.ipynb#X11sZmlsZQ%3D%3D?line=1'>2</a>\u001b[0m \u001b[39m# change the ask for price text value in price column and replace it with 0\u001b[39;00m\n\u001b[0;32m      <a href='vscode-notebook-cell:/c%3A/Users/Cash%20Crusaders/Desktop/My%20Portfolio/Projects/Data%20Science%20Projects/Machine%20Learning%20Project%2011%20-%20Car%20Price%20Prediction/Development_Step/data_preprocessing.ipynb#X11sZmlsZQ%3D%3D?line=2'>3</a>\u001b[0m df_copy[\u001b[39m'\u001b[39m\u001b[39mPrice\u001b[39m\u001b[39m'\u001b[39m] \u001b[39m=\u001b[39m df_copy[\u001b[39m'\u001b[39m\u001b[39mPrice\u001b[39m\u001b[39m'\u001b[39m]\u001b[39m.\u001b[39mreplace(\u001b[39m'\u001b[39m\u001b[39mAsk For Price\u001b[39m\u001b[39m'\u001b[39m, \u001b[39m0\u001b[39m)\n",
      "File \u001b[1;32mc:\\Anaconda\\envs\\machine-learning-env\\lib\\site-packages\\pandas\\core\\generic.py:5912\u001b[0m, in \u001b[0;36mNDFrame.astype\u001b[1;34m(self, dtype, copy, errors)\u001b[0m\n\u001b[0;32m   5905\u001b[0m     results \u001b[39m=\u001b[39m [\n\u001b[0;32m   5906\u001b[0m         \u001b[39mself\u001b[39m\u001b[39m.\u001b[39miloc[:, i]\u001b[39m.\u001b[39mastype(dtype, copy\u001b[39m=\u001b[39mcopy)\n\u001b[0;32m   5907\u001b[0m         \u001b[39mfor\u001b[39;00m i \u001b[39min\u001b[39;00m \u001b[39mrange\u001b[39m(\u001b[39mlen\u001b[39m(\u001b[39mself\u001b[39m\u001b[39m.\u001b[39mcolumns))\n\u001b[0;32m   5908\u001b[0m     ]\n\u001b[0;32m   5910\u001b[0m \u001b[39melse\u001b[39;00m:\n\u001b[0;32m   5911\u001b[0m     \u001b[39m# else, only a single dtype is given\u001b[39;00m\n\u001b[1;32m-> 5912\u001b[0m     new_data \u001b[39m=\u001b[39m \u001b[39mself\u001b[39;49m\u001b[39m.\u001b[39;49m_mgr\u001b[39m.\u001b[39;49mastype(dtype\u001b[39m=\u001b[39;49mdtype, copy\u001b[39m=\u001b[39;49mcopy, errors\u001b[39m=\u001b[39;49merrors)\n\u001b[0;32m   5913\u001b[0m     \u001b[39mreturn\u001b[39;00m \u001b[39mself\u001b[39m\u001b[39m.\u001b[39m_constructor(new_data)\u001b[39m.\u001b[39m__finalize__(\u001b[39mself\u001b[39m, method\u001b[39m=\u001b[39m\u001b[39m\"\u001b[39m\u001b[39mastype\u001b[39m\u001b[39m\"\u001b[39m)\n\u001b[0;32m   5915\u001b[0m \u001b[39m# GH 33113: handle empty frame or series\u001b[39;00m\n",
      "File \u001b[1;32mc:\\Anaconda\\envs\\machine-learning-env\\lib\\site-packages\\pandas\\core\\internals\\managers.py:419\u001b[0m, in \u001b[0;36mBaseBlockManager.astype\u001b[1;34m(self, dtype, copy, errors)\u001b[0m\n\u001b[0;32m    418\u001b[0m \u001b[39mdef\u001b[39;00m \u001b[39mastype\u001b[39m(\u001b[39mself\u001b[39m: T, dtype, copy: \u001b[39mbool\u001b[39m \u001b[39m=\u001b[39m \u001b[39mFalse\u001b[39;00m, errors: \u001b[39mstr\u001b[39m \u001b[39m=\u001b[39m \u001b[39m\"\u001b[39m\u001b[39mraise\u001b[39m\u001b[39m\"\u001b[39m) \u001b[39m-\u001b[39m\u001b[39m>\u001b[39m T:\n\u001b[1;32m--> 419\u001b[0m     \u001b[39mreturn\u001b[39;00m \u001b[39mself\u001b[39;49m\u001b[39m.\u001b[39;49mapply(\u001b[39m\"\u001b[39;49m\u001b[39mastype\u001b[39;49m\u001b[39m\"\u001b[39;49m, dtype\u001b[39m=\u001b[39;49mdtype, copy\u001b[39m=\u001b[39;49mcopy, errors\u001b[39m=\u001b[39;49merrors)\n",
      "File \u001b[1;32mc:\\Anaconda\\envs\\machine-learning-env\\lib\\site-packages\\pandas\\core\\internals\\managers.py:304\u001b[0m, in \u001b[0;36mBaseBlockManager.apply\u001b[1;34m(self, f, align_keys, ignore_failures, **kwargs)\u001b[0m\n\u001b[0;32m    302\u001b[0m         applied \u001b[39m=\u001b[39m b\u001b[39m.\u001b[39mapply(f, \u001b[39m*\u001b[39m\u001b[39m*\u001b[39mkwargs)\n\u001b[0;32m    303\u001b[0m     \u001b[39melse\u001b[39;00m:\n\u001b[1;32m--> 304\u001b[0m         applied \u001b[39m=\u001b[39m \u001b[39mgetattr\u001b[39m(b, f)(\u001b[39m*\u001b[39m\u001b[39m*\u001b[39mkwargs)\n\u001b[0;32m    305\u001b[0m \u001b[39mexcept\u001b[39;00m (\u001b[39mTypeError\u001b[39;00m, \u001b[39mNotImplementedError\u001b[39;00m):\n\u001b[0;32m    306\u001b[0m     \u001b[39mif\u001b[39;00m \u001b[39mnot\u001b[39;00m ignore_failures:\n",
      "File \u001b[1;32mc:\\Anaconda\\envs\\machine-learning-env\\lib\\site-packages\\pandas\\core\\internals\\blocks.py:580\u001b[0m, in \u001b[0;36mBlock.astype\u001b[1;34m(self, dtype, copy, errors)\u001b[0m\n\u001b[0;32m    562\u001b[0m \u001b[39m\u001b[39m\u001b[39m\"\"\"\u001b[39;00m\n\u001b[0;32m    563\u001b[0m \u001b[39mCoerce to the new dtype.\u001b[39;00m\n\u001b[0;32m    564\u001b[0m \n\u001b[1;32m   (...)\u001b[0m\n\u001b[0;32m    576\u001b[0m \u001b[39mBlock\u001b[39;00m\n\u001b[0;32m    577\u001b[0m \u001b[39m\"\"\"\u001b[39;00m\n\u001b[0;32m    578\u001b[0m values \u001b[39m=\u001b[39m \u001b[39mself\u001b[39m\u001b[39m.\u001b[39mvalues\n\u001b[1;32m--> 580\u001b[0m new_values \u001b[39m=\u001b[39m astype_array_safe(values, dtype, copy\u001b[39m=\u001b[39;49mcopy, errors\u001b[39m=\u001b[39;49merrors)\n\u001b[0;32m    582\u001b[0m new_values \u001b[39m=\u001b[39m maybe_coerce_values(new_values)\n\u001b[0;32m    583\u001b[0m newb \u001b[39m=\u001b[39m \u001b[39mself\u001b[39m\u001b[39m.\u001b[39mmake_block(new_values)\n",
      "File \u001b[1;32mc:\\Anaconda\\envs\\machine-learning-env\\lib\\site-packages\\pandas\\core\\dtypes\\cast.py:1292\u001b[0m, in \u001b[0;36mastype_array_safe\u001b[1;34m(values, dtype, copy, errors)\u001b[0m\n\u001b[0;32m   1289\u001b[0m     dtype \u001b[39m=\u001b[39m dtype\u001b[39m.\u001b[39mnumpy_dtype\n\u001b[0;32m   1291\u001b[0m \u001b[39mtry\u001b[39;00m:\n\u001b[1;32m-> 1292\u001b[0m     new_values \u001b[39m=\u001b[39m astype_array(values, dtype, copy\u001b[39m=\u001b[39;49mcopy)\n\u001b[0;32m   1293\u001b[0m \u001b[39mexcept\u001b[39;00m (\u001b[39mValueError\u001b[39;00m, \u001b[39mTypeError\u001b[39;00m):\n\u001b[0;32m   1294\u001b[0m     \u001b[39m# e.g. astype_nansafe can fail on object-dtype of strings\u001b[39;00m\n\u001b[0;32m   1295\u001b[0m     \u001b[39m#  trying to convert to float\u001b[39;00m\n\u001b[0;32m   1296\u001b[0m     \u001b[39mif\u001b[39;00m errors \u001b[39m==\u001b[39m \u001b[39m\"\u001b[39m\u001b[39mignore\u001b[39m\u001b[39m\"\u001b[39m:\n",
      "File \u001b[1;32mc:\\Anaconda\\envs\\machine-learning-env\\lib\\site-packages\\pandas\\core\\dtypes\\cast.py:1237\u001b[0m, in \u001b[0;36mastype_array\u001b[1;34m(values, dtype, copy)\u001b[0m\n\u001b[0;32m   1234\u001b[0m     values \u001b[39m=\u001b[39m values\u001b[39m.\u001b[39mastype(dtype, copy\u001b[39m=\u001b[39mcopy)\n\u001b[0;32m   1236\u001b[0m \u001b[39melse\u001b[39;00m:\n\u001b[1;32m-> 1237\u001b[0m     values \u001b[39m=\u001b[39m astype_nansafe(values, dtype, copy\u001b[39m=\u001b[39;49mcopy)\n\u001b[0;32m   1239\u001b[0m \u001b[39m# in pandas we don't store numpy str dtypes, so convert to object\u001b[39;00m\n\u001b[0;32m   1240\u001b[0m \u001b[39mif\u001b[39;00m \u001b[39misinstance\u001b[39m(dtype, np\u001b[39m.\u001b[39mdtype) \u001b[39mand\u001b[39;00m \u001b[39missubclass\u001b[39m(values\u001b[39m.\u001b[39mdtype\u001b[39m.\u001b[39mtype, \u001b[39mstr\u001b[39m):\n",
      "File \u001b[1;32mc:\\Anaconda\\envs\\machine-learning-env\\lib\\site-packages\\pandas\\core\\dtypes\\cast.py:1181\u001b[0m, in \u001b[0;36mastype_nansafe\u001b[1;34m(arr, dtype, copy, skipna)\u001b[0m\n\u001b[0;32m   1177\u001b[0m     \u001b[39mraise\u001b[39;00m \u001b[39mValueError\u001b[39;00m(msg)\n\u001b[0;32m   1179\u001b[0m \u001b[39mif\u001b[39;00m copy \u001b[39mor\u001b[39;00m is_object_dtype(arr\u001b[39m.\u001b[39mdtype) \u001b[39mor\u001b[39;00m is_object_dtype(dtype):\n\u001b[0;32m   1180\u001b[0m     \u001b[39m# Explicit copy, or required since NumPy can't view from / to object.\u001b[39;00m\n\u001b[1;32m-> 1181\u001b[0m     \u001b[39mreturn\u001b[39;00m arr\u001b[39m.\u001b[39;49mastype(dtype, copy\u001b[39m=\u001b[39;49m\u001b[39mTrue\u001b[39;49;00m)\n\u001b[0;32m   1183\u001b[0m \u001b[39mreturn\u001b[39;00m arr\u001b[39m.\u001b[39mastype(dtype, copy\u001b[39m=\u001b[39mcopy)\n",
      "\u001b[1;31mValueError\u001b[0m: could not convert string to float: 'Ask For Price'"
     ]
    }
   ],
   "source": [
    "df_copy['Price'] = df_copy['Price'].astype(float)\n",
    "# change the ask for price text value in price column and replace it with 0\n",
    "df_copy['Price'] = df_copy['Price'].replace('Ask For Price', 0)"
   ]
  },
  {
   "cell_type": "code",
   "execution_count": 10,
   "metadata": {},
   "outputs": [
    {
     "data": {
      "text/html": [
       "<div>\n",
       "<style scoped>\n",
       "    .dataframe tbody tr th:only-of-type {\n",
       "        vertical-align: middle;\n",
       "    }\n",
       "\n",
       "    .dataframe tbody tr th {\n",
       "        vertical-align: top;\n",
       "    }\n",
       "\n",
       "    .dataframe thead th {\n",
       "        text-align: right;\n",
       "    }\n",
       "</style>\n",
       "<table border=\"1\" class=\"dataframe\">\n",
       "  <thead>\n",
       "    <tr style=\"text-align: right;\">\n",
       "      <th></th>\n",
       "      <th>name</th>\n",
       "      <th>company</th>\n",
       "      <th>year</th>\n",
       "      <th>Price</th>\n",
       "      <th>fuel_type</th>\n",
       "      <th>Mileage</th>\n",
       "    </tr>\n",
       "  </thead>\n",
       "  <tbody>\n",
       "    <tr>\n",
       "      <th>0</th>\n",
       "      <td>Maruti Suzuki Alto 800 Vxi</td>\n",
       "      <td>Maruti</td>\n",
       "      <td>2018</td>\n",
       "      <td>0</td>\n",
       "      <td>Petrol</td>\n",
       "      <td>22,000</td>\n",
       "    </tr>\n",
       "    <tr>\n",
       "      <th>1</th>\n",
       "      <td>Hyundai Grand i10 Magna 1.2 Kappa VTVT</td>\n",
       "      <td>Hyundai</td>\n",
       "      <td>2014</td>\n",
       "      <td>3,25,000</td>\n",
       "      <td>Petrol</td>\n",
       "      <td>28,000</td>\n",
       "    </tr>\n",
       "    <tr>\n",
       "      <th>2</th>\n",
       "      <td>Ford EcoSport Titanium 1.5L TDCi</td>\n",
       "      <td>Ford</td>\n",
       "      <td>2014</td>\n",
       "      <td>5,75,000</td>\n",
       "      <td>Diesel</td>\n",
       "      <td>36,000</td>\n",
       "    </tr>\n",
       "    <tr>\n",
       "      <th>3</th>\n",
       "      <td>Ford EcoSport Titanium 1.5L TDCi</td>\n",
       "      <td>Ford</td>\n",
       "      <td>2015</td>\n",
       "      <td>0</td>\n",
       "      <td>Diesel</td>\n",
       "      <td>59,000</td>\n",
       "    </tr>\n",
       "    <tr>\n",
       "      <th>4</th>\n",
       "      <td>Mahindra Scorpio SLE BS IV</td>\n",
       "      <td>Mahindra</td>\n",
       "      <td>2015</td>\n",
       "      <td>3,20,000</td>\n",
       "      <td>Diesel</td>\n",
       "      <td>48,660</td>\n",
       "    </tr>\n",
       "  </tbody>\n",
       "</table>\n",
       "</div>"
      ],
      "text/plain": [
       "                                     name   company  year     Price fuel_type  \\\n",
       "0              Maruti Suzuki Alto 800 Vxi    Maruti  2018         0    Petrol   \n",
       "1  Hyundai Grand i10 Magna 1.2 Kappa VTVT   Hyundai  2014  3,25,000    Petrol   \n",
       "2        Ford EcoSport Titanium 1.5L TDCi      Ford  2014  5,75,000    Diesel   \n",
       "3        Ford EcoSport Titanium 1.5L TDCi      Ford  2015         0    Diesel   \n",
       "4              Mahindra Scorpio SLE BS IV  Mahindra  2015  3,20,000    Diesel   \n",
       "\n",
       "  Mileage  \n",
       "0  22,000  \n",
       "1  28,000  \n",
       "2  36,000  \n",
       "3  59,000  \n",
       "4  48,660  "
      ]
     },
     "execution_count": 10,
     "metadata": {},
     "output_type": "execute_result"
    }
   ],
   "source": [
    "df_copy.head()"
   ]
  },
  {
   "cell_type": "code",
   "execution_count": 11,
   "metadata": {},
   "outputs": [
    {
     "data": {
      "text/plain": [
       "name         object\n",
       "company      object\n",
       "year          int64\n",
       "Price        object\n",
       "fuel_type    object\n",
       "Mileage      object\n",
       "dtype: object"
      ]
     },
     "execution_count": 11,
     "metadata": {},
     "output_type": "execute_result"
    }
   ],
   "source": [
    "df_copy.dtypes"
   ]
  },
  {
   "cell_type": "code",
   "execution_count": 10,
   "metadata": {},
   "outputs": [],
   "source": [
    "def fix_price_datatype():\n",
    "    for i in range(len(df_copy)):\n",
    "        cur_price = df_copy.loc[i,'Price']\n",
    "        if(cur_price!= 0):\n",
    "            cur_price = float(cur_price.replace(',',''))\n",
    "            df_copy.loc[i,'Price']=cur_price\n",
    "#apply function\n",
    "fix_price_datatype()"
   ]
  },
  {
   "cell_type": "code",
   "execution_count": 11,
   "metadata": {},
   "outputs": [
    {
     "data": {
      "text/html": [
       "<div>\n",
       "<style scoped>\n",
       "    .dataframe tbody tr th:only-of-type {\n",
       "        vertical-align: middle;\n",
       "    }\n",
       "\n",
       "    .dataframe tbody tr th {\n",
       "        vertical-align: top;\n",
       "    }\n",
       "\n",
       "    .dataframe thead th {\n",
       "        text-align: right;\n",
       "    }\n",
       "</style>\n",
       "<table border=\"1\" class=\"dataframe\">\n",
       "  <thead>\n",
       "    <tr style=\"text-align: right;\">\n",
       "      <th></th>\n",
       "      <th>name</th>\n",
       "      <th>company</th>\n",
       "      <th>year</th>\n",
       "      <th>Price</th>\n",
       "      <th>fuel_type</th>\n",
       "      <th>Mileage</th>\n",
       "    </tr>\n",
       "  </thead>\n",
       "  <tbody>\n",
       "    <tr>\n",
       "      <th>0</th>\n",
       "      <td>Maruti Suzuki Alto 800 Vxi</td>\n",
       "      <td>Maruti</td>\n",
       "      <td>2018</td>\n",
       "      <td>0</td>\n",
       "      <td>Petrol</td>\n",
       "      <td>22,000</td>\n",
       "    </tr>\n",
       "    <tr>\n",
       "      <th>1</th>\n",
       "      <td>Hyundai Grand i10 Magna 1.2 Kappa VTVT</td>\n",
       "      <td>Hyundai</td>\n",
       "      <td>2014</td>\n",
       "      <td>325000.0</td>\n",
       "      <td>Petrol</td>\n",
       "      <td>28,000</td>\n",
       "    </tr>\n",
       "    <tr>\n",
       "      <th>2</th>\n",
       "      <td>Ford EcoSport Titanium 1.5L TDCi</td>\n",
       "      <td>Ford</td>\n",
       "      <td>2014</td>\n",
       "      <td>575000.0</td>\n",
       "      <td>Diesel</td>\n",
       "      <td>36,000</td>\n",
       "    </tr>\n",
       "    <tr>\n",
       "      <th>3</th>\n",
       "      <td>Ford EcoSport Titanium 1.5L TDCi</td>\n",
       "      <td>Ford</td>\n",
       "      <td>2015</td>\n",
       "      <td>0</td>\n",
       "      <td>Diesel</td>\n",
       "      <td>59,000</td>\n",
       "    </tr>\n",
       "    <tr>\n",
       "      <th>4</th>\n",
       "      <td>Mahindra Scorpio SLE BS IV</td>\n",
       "      <td>Mahindra</td>\n",
       "      <td>2015</td>\n",
       "      <td>320000.0</td>\n",
       "      <td>Diesel</td>\n",
       "      <td>48,660</td>\n",
       "    </tr>\n",
       "    <tr>\n",
       "      <th>5</th>\n",
       "      <td>Audi A8</td>\n",
       "      <td>Audi</td>\n",
       "      <td>2017</td>\n",
       "      <td>1000000.0</td>\n",
       "      <td>Petrol</td>\n",
       "      <td>4,000</td>\n",
       "    </tr>\n",
       "    <tr>\n",
       "      <th>6</th>\n",
       "      <td>Audi Q7</td>\n",
       "      <td>Audi</td>\n",
       "      <td>2014</td>\n",
       "      <td>500000.0</td>\n",
       "      <td>Diesel</td>\n",
       "      <td>16,934</td>\n",
       "    </tr>\n",
       "    <tr>\n",
       "      <th>7</th>\n",
       "      <td>Maruti Suzuki Alto 800</td>\n",
       "      <td>Maruti</td>\n",
       "      <td>2014</td>\n",
       "      <td>160000.0</td>\n",
       "      <td>Petrol</td>\n",
       "      <td>35,550</td>\n",
       "    </tr>\n",
       "    <tr>\n",
       "      <th>8</th>\n",
       "      <td>Mahindra Scorpio S10</td>\n",
       "      <td>Mahindra</td>\n",
       "      <td>2016</td>\n",
       "      <td>310000.0</td>\n",
       "      <td>Diesel</td>\n",
       "      <td>39,522</td>\n",
       "    </tr>\n",
       "    <tr>\n",
       "      <th>9</th>\n",
       "      <td>Maruti Suzuki Alto 800 Vxi</td>\n",
       "      <td>Maruti</td>\n",
       "      <td>2015</td>\n",
       "      <td>75000.0</td>\n",
       "      <td>Petrol</td>\n",
       "      <td>39,000</td>\n",
       "    </tr>\n",
       "  </tbody>\n",
       "</table>\n",
       "</div>"
      ],
      "text/plain": [
       "                                     name   company  year      Price  \\\n",
       "0              Maruti Suzuki Alto 800 Vxi    Maruti  2018          0   \n",
       "1  Hyundai Grand i10 Magna 1.2 Kappa VTVT   Hyundai  2014   325000.0   \n",
       "2        Ford EcoSport Titanium 1.5L TDCi      Ford  2014   575000.0   \n",
       "3        Ford EcoSport Titanium 1.5L TDCi      Ford  2015          0   \n",
       "4              Mahindra Scorpio SLE BS IV  Mahindra  2015   320000.0   \n",
       "5                                 Audi A8      Audi  2017  1000000.0   \n",
       "6                                 Audi Q7      Audi  2014   500000.0   \n",
       "7                  Maruti Suzuki Alto 800    Maruti  2014   160000.0   \n",
       "8                    Mahindra Scorpio S10  Mahindra  2016   310000.0   \n",
       "9              Maruti Suzuki Alto 800 Vxi    Maruti  2015    75000.0   \n",
       "\n",
       "  fuel_type Mileage  \n",
       "0    Petrol  22,000  \n",
       "1    Petrol  28,000  \n",
       "2    Diesel  36,000  \n",
       "3    Diesel  59,000  \n",
       "4    Diesel  48,660  \n",
       "5    Petrol   4,000  \n",
       "6    Diesel  16,934  \n",
       "7    Petrol  35,550  \n",
       "8    Diesel  39,522  \n",
       "9    Petrol  39,000  "
      ]
     },
     "execution_count": 11,
     "metadata": {},
     "output_type": "execute_result"
    }
   ],
   "source": [
    "df_copy.head(10)"
   ]
  },
  {
   "cell_type": "code",
   "execution_count": 12,
   "metadata": {},
   "outputs": [],
   "source": [
    "# fixing the mileage column\n",
    "def fix_mileage_datatype():\n",
    "    for i in range(len(df_copy)):\n",
    "        cur_price = df_copy.loc[i,'Mileage']\n",
    "        if(cur_price!=0):\n",
    "            cur_price = float(cur_price.replace(',',''))\n",
    "            df_copy.loc[i,'Mileage']=cur_price\n",
    "#apply function\n",
    "fix_mileage_datatype()"
   ]
  },
  {
   "cell_type": "code",
   "execution_count": 13,
   "metadata": {},
   "outputs": [
    {
     "data": {
      "text/html": [
       "<div>\n",
       "<style scoped>\n",
       "    .dataframe tbody tr th:only-of-type {\n",
       "        vertical-align: middle;\n",
       "    }\n",
       "\n",
       "    .dataframe tbody tr th {\n",
       "        vertical-align: top;\n",
       "    }\n",
       "\n",
       "    .dataframe thead th {\n",
       "        text-align: right;\n",
       "    }\n",
       "</style>\n",
       "<table border=\"1\" class=\"dataframe\">\n",
       "  <thead>\n",
       "    <tr style=\"text-align: right;\">\n",
       "      <th></th>\n",
       "      <th>name</th>\n",
       "      <th>company</th>\n",
       "      <th>year</th>\n",
       "      <th>Price</th>\n",
       "      <th>fuel_type</th>\n",
       "      <th>Mileage</th>\n",
       "    </tr>\n",
       "  </thead>\n",
       "  <tbody>\n",
       "    <tr>\n",
       "      <th>0</th>\n",
       "      <td>Maruti Suzuki Alto 800 Vxi</td>\n",
       "      <td>Maruti</td>\n",
       "      <td>2018</td>\n",
       "      <td>0</td>\n",
       "      <td>Petrol</td>\n",
       "      <td>22000.0</td>\n",
       "    </tr>\n",
       "    <tr>\n",
       "      <th>1</th>\n",
       "      <td>Hyundai Grand i10 Magna 1.2 Kappa VTVT</td>\n",
       "      <td>Hyundai</td>\n",
       "      <td>2014</td>\n",
       "      <td>325000.0</td>\n",
       "      <td>Petrol</td>\n",
       "      <td>28000.0</td>\n",
       "    </tr>\n",
       "    <tr>\n",
       "      <th>2</th>\n",
       "      <td>Ford EcoSport Titanium 1.5L TDCi</td>\n",
       "      <td>Ford</td>\n",
       "      <td>2014</td>\n",
       "      <td>575000.0</td>\n",
       "      <td>Diesel</td>\n",
       "      <td>36000.0</td>\n",
       "    </tr>\n",
       "    <tr>\n",
       "      <th>3</th>\n",
       "      <td>Ford EcoSport Titanium 1.5L TDCi</td>\n",
       "      <td>Ford</td>\n",
       "      <td>2015</td>\n",
       "      <td>0</td>\n",
       "      <td>Diesel</td>\n",
       "      <td>59000.0</td>\n",
       "    </tr>\n",
       "    <tr>\n",
       "      <th>4</th>\n",
       "      <td>Mahindra Scorpio SLE BS IV</td>\n",
       "      <td>Mahindra</td>\n",
       "      <td>2015</td>\n",
       "      <td>320000.0</td>\n",
       "      <td>Diesel</td>\n",
       "      <td>48660.0</td>\n",
       "    </tr>\n",
       "    <tr>\n",
       "      <th>5</th>\n",
       "      <td>Audi A8</td>\n",
       "      <td>Audi</td>\n",
       "      <td>2017</td>\n",
       "      <td>1000000.0</td>\n",
       "      <td>Petrol</td>\n",
       "      <td>4000.0</td>\n",
       "    </tr>\n",
       "    <tr>\n",
       "      <th>6</th>\n",
       "      <td>Audi Q7</td>\n",
       "      <td>Audi</td>\n",
       "      <td>2014</td>\n",
       "      <td>500000.0</td>\n",
       "      <td>Diesel</td>\n",
       "      <td>16934.0</td>\n",
       "    </tr>\n",
       "    <tr>\n",
       "      <th>7</th>\n",
       "      <td>Maruti Suzuki Alto 800</td>\n",
       "      <td>Maruti</td>\n",
       "      <td>2014</td>\n",
       "      <td>160000.0</td>\n",
       "      <td>Petrol</td>\n",
       "      <td>35550.0</td>\n",
       "    </tr>\n",
       "    <tr>\n",
       "      <th>8</th>\n",
       "      <td>Mahindra Scorpio S10</td>\n",
       "      <td>Mahindra</td>\n",
       "      <td>2016</td>\n",
       "      <td>310000.0</td>\n",
       "      <td>Diesel</td>\n",
       "      <td>39522.0</td>\n",
       "    </tr>\n",
       "    <tr>\n",
       "      <th>9</th>\n",
       "      <td>Maruti Suzuki Alto 800 Vxi</td>\n",
       "      <td>Maruti</td>\n",
       "      <td>2015</td>\n",
       "      <td>75000.0</td>\n",
       "      <td>Petrol</td>\n",
       "      <td>39000.0</td>\n",
       "    </tr>\n",
       "  </tbody>\n",
       "</table>\n",
       "</div>"
      ],
      "text/plain": [
       "                                     name   company  year      Price  \\\n",
       "0              Maruti Suzuki Alto 800 Vxi    Maruti  2018          0   \n",
       "1  Hyundai Grand i10 Magna 1.2 Kappa VTVT   Hyundai  2014   325000.0   \n",
       "2        Ford EcoSport Titanium 1.5L TDCi      Ford  2014   575000.0   \n",
       "3        Ford EcoSport Titanium 1.5L TDCi      Ford  2015          0   \n",
       "4              Mahindra Scorpio SLE BS IV  Mahindra  2015   320000.0   \n",
       "5                                 Audi A8      Audi  2017  1000000.0   \n",
       "6                                 Audi Q7      Audi  2014   500000.0   \n",
       "7                  Maruti Suzuki Alto 800    Maruti  2014   160000.0   \n",
       "8                    Mahindra Scorpio S10  Mahindra  2016   310000.0   \n",
       "9              Maruti Suzuki Alto 800 Vxi    Maruti  2015    75000.0   \n",
       "\n",
       "  fuel_type  Mileage  \n",
       "0    Petrol  22000.0  \n",
       "1    Petrol  28000.0  \n",
       "2    Diesel  36000.0  \n",
       "3    Diesel  59000.0  \n",
       "4    Diesel  48660.0  \n",
       "5    Petrol   4000.0  \n",
       "6    Diesel  16934.0  \n",
       "7    Petrol  35550.0  \n",
       "8    Diesel  39522.0  \n",
       "9    Petrol  39000.0  "
      ]
     },
     "execution_count": 13,
     "metadata": {},
     "output_type": "execute_result"
    }
   ],
   "source": [
    "df_copy.head(10)"
   ]
  },
  {
   "cell_type": "code",
   "execution_count": 14,
   "metadata": {},
   "outputs": [
    {
     "data": {
      "text/plain": [
       "name         object\n",
       "company      object\n",
       "year          int64\n",
       "Price        object\n",
       "fuel_type    object\n",
       "Mileage      object\n",
       "dtype: object"
      ]
     },
     "execution_count": 14,
     "metadata": {},
     "output_type": "execute_result"
    }
   ],
   "source": [
    "df_copy.dtypes"
   ]
  },
  {
   "cell_type": "code",
   "execution_count": 15,
   "metadata": {},
   "outputs": [],
   "source": [
    "# make the price column to be aa float\n",
    "df_copy['Price'] = df_copy['Price'].astype(float)\n",
    "df_copy['Mileage'] = df_copy['Mileage'].astype(float)"
   ]
  },
  {
   "cell_type": "code",
   "execution_count": 16,
   "metadata": {},
   "outputs": [
    {
     "data": {
      "text/plain": [
       "name          object\n",
       "company       object\n",
       "year           int64\n",
       "Price        float64\n",
       "fuel_type     object\n",
       "Mileage      float64\n",
       "dtype: object"
      ]
     },
     "execution_count": 16,
     "metadata": {},
     "output_type": "execute_result"
    }
   ],
   "source": [
    "df_copy.dtypes"
   ]
  },
  {
   "cell_type": "code",
   "execution_count": 17,
   "metadata": {},
   "outputs": [
    {
     "name": "stdout",
     "output_type": "stream",
     "text": [
      "<class 'pandas.core.frame.DataFrame'>\n",
      "RangeIndex: 669 entries, 0 to 668\n",
      "Data columns (total 6 columns):\n",
      " #   Column     Non-Null Count  Dtype  \n",
      "---  ------     --------------  -----  \n",
      " 0   name       669 non-null    object \n",
      " 1   company    669 non-null    object \n",
      " 2   year       669 non-null    int64  \n",
      " 3   Price      669 non-null    float64\n",
      " 4   fuel_type  668 non-null    object \n",
      " 5   Mileage    669 non-null    float64\n",
      "dtypes: float64(2), int64(1), object(3)\n",
      "memory usage: 31.5+ KB\n"
     ]
    }
   ],
   "source": [
    "df_copy.info()"
   ]
  },
  {
   "cell_type": "code",
   "execution_count": 18,
   "metadata": {},
   "outputs": [
    {
     "data": {
      "text/plain": [
       "385635.2705530643"
      ]
     },
     "execution_count": 18,
     "metadata": {},
     "output_type": "execute_result"
    }
   ],
   "source": [
    "# get the mean of prices\n",
    "df_copy.Price.mean()"
   ]
  },
  {
   "cell_type": "code",
   "execution_count": 19,
   "metadata": {},
   "outputs": [],
   "source": [
    "# deal with the NAN\n",
    "from sklearn.impute import SimpleImputer\n",
    "imputer = SimpleImputer(missing_values=0, strategy='mean')\n",
    "imputer.fit(df_copy.iloc[:, 3:4])\n",
    "df_copy.iloc[:, 3:4] = imputer.transform(df_copy.iloc[:, 3:4])"
   ]
  },
  {
   "cell_type": "code",
   "execution_count": 20,
   "metadata": {},
   "outputs": [
    {
     "data": {
      "text/html": [
       "<div>\n",
       "<style scoped>\n",
       "    .dataframe tbody tr th:only-of-type {\n",
       "        vertical-align: middle;\n",
       "    }\n",
       "\n",
       "    .dataframe tbody tr th {\n",
       "        vertical-align: top;\n",
       "    }\n",
       "\n",
       "    .dataframe thead th {\n",
       "        text-align: right;\n",
       "    }\n",
       "</style>\n",
       "<table border=\"1\" class=\"dataframe\">\n",
       "  <thead>\n",
       "    <tr style=\"text-align: right;\">\n",
       "      <th></th>\n",
       "      <th>name</th>\n",
       "      <th>company</th>\n",
       "      <th>year</th>\n",
       "      <th>Price</th>\n",
       "      <th>fuel_type</th>\n",
       "      <th>Mileage</th>\n",
       "    </tr>\n",
       "  </thead>\n",
       "  <tbody>\n",
       "    <tr>\n",
       "      <th>0</th>\n",
       "      <td>Maruti Suzuki Alto 800 Vxi</td>\n",
       "      <td>Maruti</td>\n",
       "      <td>2018</td>\n",
       "      <td>398132.709877</td>\n",
       "      <td>Petrol</td>\n",
       "      <td>22000.0</td>\n",
       "    </tr>\n",
       "    <tr>\n",
       "      <th>1</th>\n",
       "      <td>Hyundai Grand i10 Magna 1.2 Kappa VTVT</td>\n",
       "      <td>Hyundai</td>\n",
       "      <td>2014</td>\n",
       "      <td>325000.000000</td>\n",
       "      <td>Petrol</td>\n",
       "      <td>28000.0</td>\n",
       "    </tr>\n",
       "    <tr>\n",
       "      <th>2</th>\n",
       "      <td>Ford EcoSport Titanium 1.5L TDCi</td>\n",
       "      <td>Ford</td>\n",
       "      <td>2014</td>\n",
       "      <td>575000.000000</td>\n",
       "      <td>Diesel</td>\n",
       "      <td>36000.0</td>\n",
       "    </tr>\n",
       "    <tr>\n",
       "      <th>3</th>\n",
       "      <td>Ford EcoSport Titanium 1.5L TDCi</td>\n",
       "      <td>Ford</td>\n",
       "      <td>2015</td>\n",
       "      <td>398132.709877</td>\n",
       "      <td>Diesel</td>\n",
       "      <td>59000.0</td>\n",
       "    </tr>\n",
       "    <tr>\n",
       "      <th>4</th>\n",
       "      <td>Mahindra Scorpio SLE BS IV</td>\n",
       "      <td>Mahindra</td>\n",
       "      <td>2015</td>\n",
       "      <td>320000.000000</td>\n",
       "      <td>Diesel</td>\n",
       "      <td>48660.0</td>\n",
       "    </tr>\n",
       "    <tr>\n",
       "      <th>5</th>\n",
       "      <td>Audi A8</td>\n",
       "      <td>Audi</td>\n",
       "      <td>2017</td>\n",
       "      <td>1000000.000000</td>\n",
       "      <td>Petrol</td>\n",
       "      <td>4000.0</td>\n",
       "    </tr>\n",
       "    <tr>\n",
       "      <th>6</th>\n",
       "      <td>Audi Q7</td>\n",
       "      <td>Audi</td>\n",
       "      <td>2014</td>\n",
       "      <td>500000.000000</td>\n",
       "      <td>Diesel</td>\n",
       "      <td>16934.0</td>\n",
       "    </tr>\n",
       "    <tr>\n",
       "      <th>7</th>\n",
       "      <td>Maruti Suzuki Alto 800</td>\n",
       "      <td>Maruti</td>\n",
       "      <td>2014</td>\n",
       "      <td>160000.000000</td>\n",
       "      <td>Petrol</td>\n",
       "      <td>35550.0</td>\n",
       "    </tr>\n",
       "    <tr>\n",
       "      <th>8</th>\n",
       "      <td>Mahindra Scorpio S10</td>\n",
       "      <td>Mahindra</td>\n",
       "      <td>2016</td>\n",
       "      <td>310000.000000</td>\n",
       "      <td>Diesel</td>\n",
       "      <td>39522.0</td>\n",
       "    </tr>\n",
       "    <tr>\n",
       "      <th>9</th>\n",
       "      <td>Maruti Suzuki Alto 800 Vxi</td>\n",
       "      <td>Maruti</td>\n",
       "      <td>2015</td>\n",
       "      <td>75000.000000</td>\n",
       "      <td>Petrol</td>\n",
       "      <td>39000.0</td>\n",
       "    </tr>\n",
       "  </tbody>\n",
       "</table>\n",
       "</div>"
      ],
      "text/plain": [
       "                                     name   company  year           Price  \\\n",
       "0              Maruti Suzuki Alto 800 Vxi    Maruti  2018   398132.709877   \n",
       "1  Hyundai Grand i10 Magna 1.2 Kappa VTVT   Hyundai  2014   325000.000000   \n",
       "2        Ford EcoSport Titanium 1.5L TDCi      Ford  2014   575000.000000   \n",
       "3        Ford EcoSport Titanium 1.5L TDCi      Ford  2015   398132.709877   \n",
       "4              Mahindra Scorpio SLE BS IV  Mahindra  2015   320000.000000   \n",
       "5                                 Audi A8      Audi  2017  1000000.000000   \n",
       "6                                 Audi Q7      Audi  2014   500000.000000   \n",
       "7                  Maruti Suzuki Alto 800    Maruti  2014   160000.000000   \n",
       "8                    Mahindra Scorpio S10  Mahindra  2016   310000.000000   \n",
       "9              Maruti Suzuki Alto 800 Vxi    Maruti  2015    75000.000000   \n",
       "\n",
       "  fuel_type  Mileage  \n",
       "0    Petrol  22000.0  \n",
       "1    Petrol  28000.0  \n",
       "2    Diesel  36000.0  \n",
       "3    Diesel  59000.0  \n",
       "4    Diesel  48660.0  \n",
       "5    Petrol   4000.0  \n",
       "6    Diesel  16934.0  \n",
       "7    Petrol  35550.0  \n",
       "8    Diesel  39522.0  \n",
       "9    Petrol  39000.0  "
      ]
     },
     "execution_count": 20,
     "metadata": {},
     "output_type": "execute_result"
    }
   ],
   "source": [
    "df_copy.head(10)"
   ]
  },
  {
   "cell_type": "code",
   "execution_count": 21,
   "metadata": {},
   "outputs": [
    {
     "data": {
      "text/plain": [
       "Petrol    369\n",
       "Diesel    297\n",
       "LPG         2\n",
       "Name: fuel_type, dtype: int64"
      ]
     },
     "execution_count": 21,
     "metadata": {},
     "output_type": "execute_result"
    }
   ],
   "source": [
    "# deal with encoding the fuel type\n",
    "df_copy.fuel_type.value_counts()"
   ]
  },
  {
   "cell_type": "code",
   "execution_count": 22,
   "metadata": {},
   "outputs": [],
   "source": [
    "X = df_copy.drop('Price',axis =1)\n",
    "y = df_copy['Price']"
   ]
  },
  {
   "cell_type": "code",
   "execution_count": 23,
   "metadata": {},
   "outputs": [
    {
     "data": {
      "text/plain": [
       "0      398132.709877\n",
       "1      325000.000000\n",
       "2      575000.000000\n",
       "3      398132.709877\n",
       "4      320000.000000\n",
       "           ...      \n",
       "664    270000.000000\n",
       "665    110000.000000\n",
       "666    300000.000000\n",
       "667    260000.000000\n",
       "668    390000.000000\n",
       "Name: Price, Length: 669, dtype: float64"
      ]
     },
     "execution_count": 23,
     "metadata": {},
     "output_type": "execute_result"
    }
   ],
   "source": [
    "y"
   ]
  },
  {
   "cell_type": "code",
   "execution_count": 24,
   "metadata": {},
   "outputs": [],
   "source": [
    "X = X.iloc[:, :5].values"
   ]
  },
  {
   "cell_type": "code",
   "execution_count": 25,
   "metadata": {},
   "outputs": [
    {
     "data": {
      "text/plain": [
       "array([['Maruti Suzuki Alto 800 Vxi', 'Maruti', 2018, 'Petrol', 22000.0],\n",
       "       ['Hyundai Grand i10 Magna 1.2 Kappa VTVT', 'Hyundai', 2014,\n",
       "        'Petrol', 28000.0],\n",
       "       ['Ford EcoSport Titanium 1.5L TDCi', 'Ford', 2014, 'Diesel',\n",
       "        36000.0],\n",
       "       ...,\n",
       "       ['Toyota Corolla Altis', 'Toyota', 2009, 'Petrol', 132000.0],\n",
       "       ['Tata Zest XM Diesel', 'Tata', 2018, 'Diesel', 27000.0],\n",
       "       ['Mahindra Quanto C8', 'Mahindra', 2013, 'Diesel', 40000.0]],\n",
       "      dtype=object)"
      ]
     },
     "execution_count": 25,
     "metadata": {},
     "output_type": "execute_result"
    }
   ],
   "source": [
    "X"
   ]
  },
  {
   "cell_type": "code",
   "execution_count": 26,
   "metadata": {},
   "outputs": [],
   "source": [
    "from sklearn.compose import ColumnTransformer\n",
    "from sklearn.preprocessing import OneHotEncoder\n",
    "ct = ColumnTransformer(transformers=[('encoder', OneHotEncoder(), [3])], remainder='passthrough')\n",
    "X = np.array(ct.fit_transform(X))"
   ]
  },
  {
   "cell_type": "code",
   "execution_count": 27,
   "metadata": {},
   "outputs": [
    {
     "data": {
      "text/plain": [
       "array([[0.0, 0.0, 1.0, ..., 'Maruti', 2018, 22000.0],\n",
       "       [0.0, 0.0, 1.0, ..., 'Hyundai', 2014, 28000.0],\n",
       "       [1.0, 0.0, 0.0, ..., 'Ford', 2014, 36000.0],\n",
       "       ...,\n",
       "       [0.0, 0.0, 1.0, ..., 'Toyota', 2009, 132000.0],\n",
       "       [1.0, 0.0, 0.0, ..., 'Tata', 2018, 27000.0],\n",
       "       [1.0, 0.0, 0.0, ..., 'Mahindra', 2013, 40000.0]], dtype=object)"
      ]
     },
     "execution_count": 27,
     "metadata": {},
     "output_type": "execute_result"
    }
   ],
   "source": [
    "X"
   ]
  },
  {
   "cell_type": "code",
   "execution_count": null,
   "metadata": {},
   "outputs": [],
   "source": [
    "\n",
    "# We have to fix the fuel type class, label encode it- do this part in the feature engineering scipt\n",
    "# have to put all the function is constructive function codes so that we can see the workflow on prefect"
   ]
  },
  {
   "cell_type": "code",
   "execution_count": 28,
   "metadata": {},
   "outputs": [
    {
     "data": {
      "application/vnd.jupyter.widget-view+json": {
       "model_id": "0bfe9f4fc07342efa7c73d84e7886dbc",
       "version_major": 2,
       "version_minor": 0
      },
      "text/plain": [
       "Summarize dataset:   0%|          | 0/5 [00:00<?, ?it/s]"
      ]
     },
     "metadata": {},
     "output_type": "display_data"
    },
    {
     "name": "stderr",
     "output_type": "stream",
     "text": [
      "c:\\Anaconda\\envs\\machine-learning-env\\lib\\site-packages\\multimethod\\__init__.py:315: FutureWarning: In a future version, `df.iloc[:, i] = newvals` will attempt to set the values inplace instead of always setting a new array. To retain the old behavior, use either `df[df.columns[i]] = newvals` or, if columns are non-unique, `df.isetitem(i, newvals)`\n",
      "  return func(*args, **kwargs)\n",
      "c:\\Anaconda\\envs\\machine-learning-env\\lib\\site-packages\\multimethod\\__init__.py:315: FutureWarning: The default value of numeric_only in DataFrame.corr is deprecated. In a future version, it will default to False. Select only valid columns or specify the value of numeric_only to silence this warning.\n",
      "  return func(*args, **kwargs)\n"
     ]
    },
    {
     "data": {
      "application/vnd.jupyter.widget-view+json": {
       "model_id": "935517ebaaee4e668a340f1c82f8fe7c",
       "version_major": 2,
       "version_minor": 0
      },
      "text/plain": [
       "Generate report structure:   0%|          | 0/1 [00:00<?, ?it/s]"
      ]
     },
     "metadata": {},
     "output_type": "display_data"
    },
    {
     "data": {
      "application/vnd.jupyter.widget-view+json": {
       "model_id": "578435a0beb64c5794167f26b91b3b4a",
       "version_major": 2,
       "version_minor": 0
      },
      "text/plain": [
       "Render HTML:   0%|          | 0/1 [00:00<?, ?it/s]"
      ]
     },
     "metadata": {},
     "output_type": "display_data"
    },
    {
     "data": {
      "application/vnd.jupyter.widget-view+json": {
       "model_id": "93156dcedfad480390df9219f5ff9e01",
       "version_major": 2,
       "version_minor": 0
      },
      "text/plain": [
       "Export report to file:   0%|          | 0/1 [00:00<?, ?it/s]"
      ]
     },
     "metadata": {},
     "output_type": "display_data"
    }
   ],
   "source": [
    "# check the dataset through Pandas profiling\n",
    "# Pandas profiling\n",
    "from pandas_profiling import ProfileReport\n",
    "data_profile = ProfileReport(df_copy, explorative = True)\n",
    "data_profile.to_file(\"preprocessed_data_analysis.html\")"
   ]
  },
  {
   "cell_type": "code",
   "execution_count": 29,
   "metadata": {},
   "outputs": [
    {
     "data": {
      "text/plain": [
       "<AxesSubplot: >"
      ]
     },
     "execution_count": 29,
     "metadata": {},
     "output_type": "execute_result"
    },
    {
     "data": {
      "image/png": "[encoded data removed]",
      "text/plain": [
       "<Figure size 640x480 with 1 Axes>"
      ]
     },
     "metadata": {},
     "output_type": "display_data"
    }
   ],
   "source": [
    "# have to fix the outliers  they affectt the distribution\n",
    "sns.boxplot(df_copy['year'])"
   ]
  },
  {
   "cell_type": "code",
   "execution_count": 31,
   "metadata": {},
   "outputs": [],
   "source": [
    "# removee the outliers\n",
    "def remove_year_outliers(df):\n",
    "    # calculate the Quantiles(Q1 and Q3)\n",
    "    Q1 = df['year'].quantile(0.25)\n",
    "    Q3 = df['year'].quantile(0.75)\n",
    "    # calclulate the Inter_quatile_range IQR\n",
    "    IQR = Q3 - Q1\n",
    "    # calculate the lower limit and upper  limit (LL & UL)\n",
    "    LL = Q1 - 1.5 * IQR\n",
    "    UL = Q3 + 1.5 * IQR\n",
    "    # now filter the column to remove the outliers\n",
    "    # replace all the values that are less or equal to the LL in the hours per weeek column with the LL\n",
    "    df.loc[df['year'] <= LL, 'year'] = LL\n",
    "    # do the same for values greater than the UL\n",
    "    df.loc[df['year'] >= UL, 'year'] = UL"
   ]
  },
  {
   "cell_type": "code",
   "execution_count": 32,
   "metadata": {},
   "outputs": [],
   "source": [
    "remove_year_outliers(df_copy)"
   ]
  },
  {
   "cell_type": "code",
   "execution_count": 33,
   "metadata": {},
   "outputs": [
    {
     "data": {
      "text/plain": [
       "<AxesSubplot: >"
      ]
     },
     "execution_count": 33,
     "metadata": {},
     "output_type": "execute_result"
    },
    {
     "data": {
      "image/png": "[encoded data removed]",
      "text/plain": [
       "<Figure size 640x480 with 1 Axes>"
      ]
     },
     "metadata": {},
     "output_type": "display_data"
    }
   ],
   "source": [
    "sns.boxplot(df_copy['year'])"
   ]
  },
  {
   "cell_type": "code",
   "execution_count": 30,
   "metadata": {},
   "outputs": [
    {
     "data": {
      "text/plain": [
       "<AxesSubplot: >"
      ]
     },
     "execution_count": 30,
     "metadata": {},
     "output_type": "execute_result"
    },
    {
     "data": {
      "image/png": "[encoded data removed]",
      "text/plain": [
       "<Figure size 640x480 with 1 Axes>"
      ]
     },
     "metadata": {},
     "output_type": "display_data"
    }
   ],
   "source": [
    "sns.boxplot(df_copy['Mileage'])"
   ]
  },
  {
   "cell_type": "code",
   "execution_count": 34,
   "metadata": {},
   "outputs": [],
   "source": [
    "# removee the outliers\n",
    "def remove_mileage_outliers(df):\n",
    "    # calculate the Quantiles(Q1 and Q3)\n",
    "    Q1 = df['Mileage'].quantile(0.25)\n",
    "    Q3 = df['Mileage'].quantile(0.75)\n",
    "    # calclulate the Inter_quatile_range IQR\n",
    "    IQR = Q3 - Q1\n",
    "    # calculate the lower limit and upper  limit (LL & UL)\n",
    "    LL = Q1 - 1.5 * IQR\n",
    "    UL = Q3 + 1.5 * IQR\n",
    "    # now filter the column to remove the outliers\n",
    "    # replace all the values that are less or equal to the LL in the hours per weeek column with the LL\n",
    "    df.loc[df['Mileage'] <= LL, 'Mileage'] = LL\n",
    "    # do the same for values greater than the UL\n",
    "    df.loc[df['Mileage'] >= UL, 'Mileage'] = UL"
   ]
  },
  {
   "cell_type": "code",
   "execution_count": 35,
   "metadata": {},
   "outputs": [],
   "source": [
    "remove_mileage_outliers(df_copy)"
   ]
  },
  {
   "cell_type": "code",
   "execution_count": 36,
   "metadata": {},
   "outputs": [
    {
     "data": {
      "text/plain": [
       "<AxesSubplot: >"
      ]
     },
     "execution_count": 36,
     "metadata": {},
     "output_type": "execute_result"
    },
    {
     "data": {
      "image/png": "[encoded data removed]",
      "text/plain": [
       "<Figure size 640x480 with 1 Axes>"
      ]
     },
     "metadata": {},
     "output_type": "display_data"
    }
   ],
   "source": [
    "sns.boxplot(df_copy['Mileage'])"
   ]
  },
  {
   "cell_type": "code",
   "execution_count": null,
   "metadata": {},
   "outputs": [],
   "source": []
  },
  {
   "cell_type": "code",
   "execution_count": null,
   "metadata": {},
   "outputs": [],
   "source": []
  },
  {
   "cell_type": "code",
   "execution_count": null,
   "metadata": {},
   "outputs": [],
   "source": []
  },
  {
   "cell_type": "code",
   "execution_count": null,
   "metadata": {},
   "outputs": [],
   "source": [
    "def impute_nan(df,variable,median):\n",
    "    df[variable+\"_median\"]=df[variable].fillna(median)\n",
    "    df[variable+\"_random\"]=df[variable]\n",
    "    ##It will have the random sample to fill the na\n",
    "    random_sample=df[variable].dropna().sample(df[variable].isnull().sum(),random_state=0)\n",
    "    ##pandas need to have same index in order to merge the dataset\n",
    "    random_sample.index=df[df[variable].isnull()].index\n",
    "    df.loc[df[variable].isnull(),variable+'_random']=random_sample\n"
   ]
  },
  {
   "cell_type": "code",
   "execution_count": null,
   "metadata": {},
   "outputs": [],
   "source": [
    "median=df.Age.median()"
   ]
  },
  {
   "cell_type": "code",
   "execution_count": null,
   "metadata": {},
   "outputs": [],
   "source": [
    "impute_nan(df,\"Age\",median)"
   ]
  },
  {
   "cell_type": "code",
   "execution_count": null,
   "metadata": {},
   "outputs": [],
   "source": [
    "import matplotlib.pyplot as plt\n",
    "%matplotlib inline"
   ]
  },
  {
   "cell_type": "code",
   "execution_count": null,
   "metadata": {},
   "outputs": [],
   "source": [
    "fig = plt.figure()\n",
    "ax = fig.add_subplot(111)\n",
    "df['Age'].plot(kind='kde', ax=ax)\n",
    "df.Age_median.plot(kind='kde', ax=ax, color='red')\n",
    "df.Age_random.plot(kind='kde', ax=ax, color='green')\n",
    "lines, labels = ax.get_legend_handles_labels()\n",
    "ax.legend(lines, labels, loc='best')"
   ]
  },
  {
   "cell_type": "code",
   "execution_count": null,
   "metadata": {},
   "outputs": [],
   "source": [
    "from sklearn.impute import SimpleImputer\n",
    "imputer = SimpleImputer(missing_values=np.nan, strategy='mean')\n",
    "imputer.fit(X[:, 1:3])\n",
    "X[:, 1:3] = imputer.transform(X[:, 1:3])"
   ]
  }
 ],
 "metadata": {
  "kernelspec": {
   "display_name": "Python 3.10.8 ('machine-learning-env')",
   "language": "python",
   "name": "python3"
  },
  "language_info": {
   "codemirror_mode": {
    "name": "ipython",
    "version": 3
   },
   "file_extension": ".py",
   "mimetype": "text/x-python",
   "name": "python",
   "nbconvert_exporter": "python",
   "pygments_lexer": "ipython3",
   "version": "3.10.8"
  },
  "orig_nbformat": 4,
  "vscode": {
   "interpreter": {
    "hash": "74b13156ee32336a91ae017c98b438a6fd9992b5a099c169a831fe64b85fc3f6"
   }
  }
 },
 "nbformat": 4,
 "nbformat_minor": 2
}
